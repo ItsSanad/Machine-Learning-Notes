{
 "cells": [
  {
   "cell_type": "markdown",
   "id": "0da7e340",
   "metadata": {},
   "source": [
    "<B>Objective:</B>\n",
    "\n",
    " - Implement the backpropagation algorithm to train a simple neural network.\n",
    " - Understand the core concepts of backpropagation, including forward and backward passes.\n",
    " - Experiment with different hyperparameters to optimize the network's performance.\n",
    "\n",
    "Our goal in training a neural network is to find weights and biases which minimize the quadratic **loss function** $L(w,b)$.\n",
    "\n",
    "We have used in the Regression models, the **gradient descent** to solve such minimization problems. The goal of backpropagation is to compute the partial derivatives $∂L/∂w$ and $∂L /∂b$ of the loss function.\n",
    "\n",
    "The **backpropagation** algorithm is able to compute the gradient of the neural network’s error with regards to every single model parameter. In other words, it can find out how each connection weight and each bias term should be tweaked (updated) in order to reduce the error. Once it has these gradients, it just performs a regular Gradient Descent step, and the whole process is repeated until the network converges to the solution.\n",
    "\n",
    "At the heart of backpropagation is an expression for the partial derivative ∂L/∂w of the loss (also called cost function) $L$ with respect to any weight $w$ (or bias $b$) in the network. The expression tells us how quickly the cost changes when we change the weights and biases.\n",
    "\n",
    "\n",
    "**Gradient Decsent Method:**\n",
    "\n",
    " 1. choose weights $W$, and biases $b$ randomly (Initialization)\n",
    "\n",
    " 2. Repeat Until Convergence\n",
    "\n",
    " For each training instance :\n",
    " - make a prediction (forward pass)\n",
    " - compute the loss $L$,\n",
    " - **go through each layer in reverse to measure the error cotribution from each connection (Backpropagation)**:\n",
    "      $∂L/∂w$, and $∂L/∂b$\n",
    " - update the connection weights to reduce the error (Gradient Descent step).\n",
    "      $W' = W- α ∂L/∂w$, $b' = b- α ∂L/∂b$\n",
    "      \n"
   ]
  },
  {
   "cell_type": "markdown",
   "id": "f0f1318e",
   "metadata": {},
   "source": [
    "### Setup the Environment\n",
    "Description: Import required libraries and set up configurations."
   ]
  },
  {
   "cell_type": "code",
   "execution_count": 1,
   "id": "0e59df1f",
   "metadata": {},
   "outputs": [],
   "source": [
    "# Import necessary libraries\n",
    "import numpy as np\n",
    "import pandas as pd\n",
    "from sklearn.model_selection import train_test_split\n",
    "import matplotlib.pyplot as plt\n",
    "from sklearn.datasets import load_iris\n",
    "\n",
    "# Set random seed for reproducibility\n",
    "np.random.seed(42)"
   ]
  },
  {
   "cell_type": "markdown",
   "id": "fc15f84f",
   "metadata": {},
   "source": [
    "### Load and Explore the Data\n",
    "Description: Load the Iris dataset, explore its structure, and prepare it for training."
   ]
  },
  {
   "cell_type": "code",
   "execution_count": 2,
   "id": "4656e214",
   "metadata": {},
   "outputs": [
    {
     "name": "stdout",
     "output_type": "stream",
     "text": [
      ".. _iris_dataset:\n",
      "\n",
      "Iris plants dataset\n",
      "--------------------\n",
      "\n",
      "**Data Set Characteristics:**\n",
      "\n",
      "    :Number of Instances: 150 (50 in each of three classes)\n",
      "    :Number of Attributes: 4 numeric, predictive attributes and the class\n",
      "    :Attribute Information:\n",
      "        - sepal length in cm\n",
      "        - sepal width in cm\n",
      "        - petal length in cm\n",
      "        - petal width in cm\n",
      "        - class:\n",
      "                - Iris-Setosa\n",
      "                - Iris-Versicolour\n",
      "                - Iris-Virginica\n",
      "                \n",
      "    :Summary Statistics:\n",
      "\n",
      "    ============== ==== ==== ======= ===== ====================\n",
      "                    Min  Max   Mean    SD   Class Correlation\n",
      "    ============== ==== ==== ======= ===== ====================\n",
      "    sepal length:   4.3  7.9   5.84   0.83    0.7826\n",
      "    sepal width:    2.0  4.4   3.05   0.43   -0.4194\n",
      "    petal length:   1.0  6.9   3.76   1.76    0.9490  (high!)\n",
      "    petal width:    0.1  2.5   1.20   0.76    0.9565  (high!)\n",
      "    ============== ==== ==== ======= ===== ====================\n",
      "\n",
      "    :Missing Attribute Values: None\n",
      "    :Class Distribution: 33.3% for each of 3 classes.\n",
      "    :Creator: R.A. Fisher\n",
      "    :Donor: Michael Marshall (MARSHALL%PLU@io.arc.nasa.gov)\n",
      "    :Date: July, 1988\n",
      "\n",
      "The famous Iris database, first used by Sir R.A. Fisher. The dataset is taken\n",
      "from Fisher's paper. Note that it's the same as in R, but not as in the UCI\n",
      "Machine Learning Repository, which has two wrong data points.\n",
      "\n",
      "This is perhaps the best known database to be found in the\n",
      "pattern recognition literature.  Fisher's paper is a classic in the field and\n",
      "is referenced frequently to this day.  (See Duda & Hart, for example.)  The\n",
      "data set contains 3 classes of 50 instances each, where each class refers to a\n",
      "type of iris plant.  One class is linearly separable from the other 2; the\n",
      "latter are NOT linearly separable from each other.\n",
      "\n",
      ".. topic:: References\n",
      "\n",
      "   - Fisher, R.A. \"The use of multiple measurements in taxonomic problems\"\n",
      "     Annual Eugenics, 7, Part II, 179-188 (1936); also in \"Contributions to\n",
      "     Mathematical Statistics\" (John Wiley, NY, 1950).\n",
      "   - Duda, R.O., & Hart, P.E. (1973) Pattern Classification and Scene Analysis.\n",
      "     (Q327.D83) John Wiley & Sons.  ISBN 0-471-22361-1.  See page 218.\n",
      "   - Dasarathy, B.V. (1980) \"Nosing Around the Neighborhood: A New System\n",
      "     Structure and Classification Rule for Recognition in Partially Exposed\n",
      "     Environments\".  IEEE Transactions on Pattern Analysis and Machine\n",
      "     Intelligence, Vol. PAMI-2, No. 1, 67-71.\n",
      "   - Gates, G.W. (1972) \"The Reduced Nearest Neighbor Rule\".  IEEE Transactions\n",
      "     on Information Theory, May 1972, 431-433.\n",
      "   - See also: 1988 MLC Proceedings, 54-64.  Cheeseman et al\"s AUTOCLASS II\n",
      "     conceptual clustering system finds 3 classes in the data.\n",
      "   - Many, many more ...\n",
      "First 5 rows of X:\n",
      " [[5.1 3.5 1.4 0.2]\n",
      " [4.9 3.  1.4 0.2]\n",
      " [4.7 3.2 1.3 0.2]\n",
      " [4.6 3.1 1.5 0.2]\n",
      " [5.  3.6 1.4 0.2]]\n",
      "First 5 rows of y:\n",
      " [0 0 0 0 0]\n"
     ]
    }
   ],
   "source": [
    "# Load the dataset\n",
    "data = load_iris()\n",
    "\n",
    "# Explore dataset structure\n",
    "print(data.DESCR)\n",
    "\n",
    "# Features and target variables\n",
    "X = data.data\n",
    "y = data.target\n",
    "\n",
    "# Print first 5 rows of data\n",
    "print(\"First 5 rows of X:\\n\", X[:5])\n",
    "print(\"First 5 rows of y:\\n\", y[:5])"
   ]
  },
  {
   "cell_type": "markdown",
   "id": "7d28bd52",
   "metadata": {},
   "source": [
    "### Preprocess the Data\n",
    "Description: Split the data into training, validation, and test sets, and encode the target variable using one-hot encoding."
   ]
  },
  {
   "cell_type": "code",
   "execution_count": 3,
   "id": "e2348c09",
   "metadata": {},
   "outputs": [],
   "source": [
    "# Split into training, validation, and test sets\n",
    "X_train, X_temp, y_train, y_temp = train_test_split(X, y, test_size=0.3, random_state=42)\n",
    "X_val, X_test, y_val, y_test = train_test_split(X_temp, y_temp, test_size=0.5, random_state=42)\n",
    "\n",
    "# One-hot encode the target variable\n",
    "output_size = 3  # Number of classes\n",
    "y_train_one_hot = np.eye(output_size)[y_train]\n",
    "y_val_one_hot = np.eye(output_size)[y_val]\n",
    "y_test_one_hot = np.eye(output_size)[y_test]"
   ]
  },
  {
   "cell_type": "markdown",
   "id": "e0711229",
   "metadata": {},
   "source": [
    "### Define Hyperparameters\n",
    "Description: Specify the learning rate, number of iterations, and architecture of the neural network."
   ]
  },
  {
   "cell_type": "code",
   "execution_count": 4,
   "id": "0a50897a",
   "metadata": {},
   "outputs": [],
   "source": [
    "# Define hyperparameters\n",
    "learning_rate = 0.1\n",
    "num_iterations = 10000\n",
    "input_size = X_train.shape[1]\n",
    "hidden_size1 = 4\n",
    "hidden_size2 = 3\n",
    "output_size = 3"
   ]
  },
  {
   "cell_type": "markdown",
   "id": "3d3d90f4",
   "metadata": {},
   "source": [
    "### Initialize Weights\n",
    "Description: Initialize weights randomly with small values."
   ]
  },
  {
   "cell_type": "code",
   "execution_count": 5,
   "id": "2a3fcfc2",
   "metadata": {},
   "outputs": [
    {
     "name": "stdout",
     "output_type": "stream",
     "text": [
      "W1 shape: (4, 4) \n",
      "W2 shape: (4, 3) \n",
      "W3 shape: (3, 3)\n"
     ]
    }
   ],
   "source": [
    "# Initialize weights\n",
    "W1 = np.random.normal(scale=0.5, size=(input_size, hidden_size1))\n",
    "W2 = np.random.normal(scale=0.5, size=(hidden_size1, hidden_size2))\n",
    "W3 = np.random.normal(scale=0.5, size=(hidden_size2, output_size))\n",
    "\n",
    "# Print weight shapes for verification\n",
    "print(\"W1 shape:\", W1.shape, \"\\nW2 shape:\", W2.shape, \"\\nW3 shape:\", W3.shape)"
   ]
  },
  {
   "cell_type": "markdown",
   "id": "c7205892",
   "metadata": {},
   "source": [
    "### Define Activation and Loss Functions\n",
    "Description: Create functions for the sigmoid activation, mean squared error, and accuracy calculation."
   ]
  },
  {
   "cell_type": "code",
   "execution_count": 6,
   "id": "7c6356b1",
   "metadata": {},
   "outputs": [],
   "source": [
    "def sigmoid(x):\n",
    "    return 1 / (1 + np.exp(-x))\n",
    "\n",
    "def sigmoid_derivative(x):\n",
    "    return x * (1 - x)\n",
    "\n",
    "def mean_squared_error(y_pred, y_true):\n",
    "    return ((y_pred - y_true) ** 2).sum() / (2 * y_pred.size)\n",
    "\n",
    "def accuracy(y_pred, y_true):\n",
    "    pred = np.argmax(y_pred, axis=1)\n",
    "    true = np.argmax(y_true, axis=1)\n",
    "    return np.mean(pred == true)\n"
   ]
  },
  {
   "cell_type": "markdown",
   "id": "4f3dcdae",
   "metadata": {},
   "source": [
    "### Implement Forward Propagation\n",
    "Description: Pass inputs through the layers and compute activations."
   ]
  },
  {
   "cell_type": "code",
   "execution_count": 7,
   "id": "0d13956b",
   "metadata": {},
   "outputs": [],
   "source": [
    "def forward_pass(X, W1, W2, W3):\n",
    "    Z1 = np.dot(X, W1)\n",
    "    A1 = sigmoid(Z1)\n",
    "    Z2 = np.dot(A1, W2)\n",
    "    A2 = sigmoid(Z2)\n",
    "    Z3 = np.dot(A2, W3)\n",
    "    A3 = sigmoid(Z3)\n",
    "    return A1, A2, A3"
   ]
  },
  {
   "cell_type": "markdown",
   "id": "95c7eb53",
   "metadata": {},
   "source": [
    "### Train the Model with Backpropagation\n",
    "Description: Compute gradients for each layer and update weights iteratively."
   ]
  },
  {
   "cell_type": "code",
   "execution_count": 8,
   "id": "99d370de",
   "metadata": {},
   "outputs": [
    {
     "name": "stdout",
     "output_type": "stream",
     "text": [
      "Final Training Accuracy: 0.9714285714285714\n"
     ]
    }
   ],
   "source": [
    "# Initialize a DataFrame to store results\n",
    "results = pd.DataFrame(columns=[\"iteration\", \"mse\", \"accuracy\"])\n",
    "\n",
    "# Training loop\n",
    "for i in range(num_iterations):\n",
    "    # Forward pass\n",
    "    A1, A2, A3 = forward_pass(X_train, W1, W2, W3)\n",
    "\n",
    "    # Compute errors and gradients\n",
    "    error = A3 - y_train_one_hot\n",
    "    dZ3 = error * (A3 * (1 - A3))\n",
    "    dW3 = np.dot(A2.T, dZ3) / len(X_train)\n",
    "\n",
    "    dZ2 = np.dot(dZ3, W3.T) * (A2 * (1 - A2))\n",
    "    dW2 = np.dot(A1.T, dZ2) / len(X_train)\n",
    "\n",
    "    dZ1 = np.dot(dZ2, W2.T) * (A1 * (1 - A1))\n",
    "    dW1 = np.dot(X_train.T, dZ1) / len(X_train)\n",
    "\n",
    "    # Update weights\n",
    "    W1 -= learning_rate * dW1\n",
    "    W2 -= learning_rate * dW2\n",
    "    W3 -= learning_rate * dW3\n",
    "\n",
    "    # Log results every 1000 iterations\n",
    "    if i % 1000 == 0:\n",
    "        mse = mean_squared_error(A3, y_train_one_hot)\n",
    "        acc = accuracy(A3, y_train_one_hot)\n",
    "        temp_df = pd.DataFrame([{\"iteration\": i, \"mse\": mse, \"accuracy\": acc}])\n",
    "        results = pd.concat([results, temp_df], ignore_index=True)\n",
    "\n",
    "# Print final training results\n",
    "print(\"Final Training Accuracy:\", acc)"
   ]
  },
  {
   "cell_type": "markdown",
   "id": "caae9967",
   "metadata": {},
   "source": [
    "### Visualize Training Progress\n",
    "Description: Plot the mean squared error and accuracy over iterations."
   ]
  },
  {
   "cell_type": "code",
   "execution_count": 9,
   "id": "c018b218",
   "metadata": {},
   "outputs": [
    {
     "data": {
      "image/png": "[encoded data removed]",
      "text/plain": [
       "<Figure size 1200x500 with 2 Axes>"
      ]
     },
     "metadata": {},
     "output_type": "display_data"
    }
   ],
   "source": [
    "plt.figure(figsize=(12, 5))\n",
    "plt.subplot(1, 2, 1)\n",
    "plt.plot(results[\"iteration\"], results[\"mse\"], label=\"MSE\")\n",
    "plt.xlabel(\"Iterations\")\n",
    "plt.ylabel(\"Mean Squared Error\")\n",
    "plt.title(\"Training Loss\")\n",
    "plt.legend()\n",
    "\n",
    "plt.subplot(1, 2, 2)\n",
    "plt.plot(results[\"iteration\"], results[\"accuracy\"], label=\"Accuracy\", color=\"orange\")\n",
    "plt.xlabel(\"Iterations\")\n",
    "plt.ylabel(\"Accuracy\")\n",
    "plt.title(\"Training Accuracy\")\n",
    "plt.legend()\n",
    "\n",
    "plt.tight_layout()\n",
    "plt.show()"
   ]
  },
  {
   "cell_type": "markdown",
   "id": "abbe183c",
   "metadata": {},
   "source": [
    "### Evaluate on Test Data\n",
    "Description: Test the trained model on the test set."
   ]
  },
  {
   "cell_type": "code",
   "execution_count": 10,
   "id": "0eba632d",
   "metadata": {},
   "outputs": [
    {
     "name": "stdout",
     "output_type": "stream",
     "text": [
      "Test Accuracy: 0.9130434782608695\n"
     ]
    }
   ],
   "source": [
    "# Test the model\n",
    "_, _, A3_test = forward_pass(X_test, W1, W2, W3)\n",
    "test_acc = accuracy(A3_test, y_test_one_hot)\n",
    "print(\"Test Accuracy:\", test_acc)"
   ]
  },
  {
   "cell_type": "markdown",
   "id": "13a38348",
   "metadata": {},
   "source": [
    "### Improve your neural network (nn)  implemented in the first part (LAb5-a) by considering the following points:\n",
    "\n",
    "Clean and put the code together\n",
    "Modify the code: Create a backpopagation function to allow any number of layers, and any number of units in each layer"
   ]
  },
  {
   "cell_type": "code",
   "execution_count": 11,
   "id": "e7c1ac0d",
   "metadata": {},
   "outputs": [
    {
     "name": "stdout",
     "output_type": "stream",
     "text": [
      "Test Accuracy: 0.8666666666666667\n"
     ]
    },
    {
     "data": {
      "image/png": "[encoded data removed]",
      "text/plain": [
       "<Figure size 1200x500 with 2 Axes>"
      ]
     },
     "metadata": {},
     "output_type": "display_data"
    }
   ],
   "source": [
    "# Import required libraries\n",
    "import numpy as np\n",
    "import pandas as pd\n",
    "import matplotlib.pyplot as plt\n",
    "\n",
    "# Define helper functions\n",
    "def sigmoid(x):\n",
    "    return 1 / (1 + np.exp(-x))\n",
    "\n",
    "def sigmoid_derivative(x):\n",
    "    return x * (1 - x)\n",
    "\n",
    "def mean_squared_error(y_pred, y_true):\n",
    "    return ((y_pred - y_true) ** 2).sum() / (2 * y_pred.size)\n",
    "\n",
    "def accuracy(y_pred, y_true):\n",
    "    pred = np.argmax(y_pred, axis=1)\n",
    "    true = np.argmax(y_true, axis=1)\n",
    "    return np.mean(pred == true)\n",
    "\n",
    "# Initialize weights and biases\n",
    "def initialize_parameters(layers):\n",
    "    parameters = {}\n",
    "    for l in range(1, len(layers)):\n",
    "        parameters[f'W{l}'] = np.random.normal(scale=0.5, size=(layers[l-1], layers[l]))\n",
    "        parameters[f'b{l}'] = np.zeros((1, layers[l]))\n",
    "    return parameters\n",
    "\n",
    "# Forward propagation\n",
    "def forward_propagation(X, parameters, layers):\n",
    "    cache = {\"A0\": X}  # Store inputs as A0\n",
    "    for l in range(1, len(layers)):\n",
    "        W = parameters[f'W{l}']\n",
    "        b = parameters[f'b{l}']\n",
    "        A_prev = cache[f\"A{l-1}\"]\n",
    "        Z = np.dot(A_prev, W) + b\n",
    "        A = sigmoid(Z)\n",
    "        cache[f\"Z{l}\"] = Z\n",
    "        cache[f\"A{l}\"] = A\n",
    "    return cache\n",
    "\n",
    "# Backpropagation\n",
    "def back_propagation(y_true, parameters, layers, cache, learning_rate):\n",
    "    gradients = {}\n",
    "    L = len(layers) - 1  # Number of layers\n",
    "    m = y_true.shape[0]  # Number of samples\n",
    "\n",
    "    # Compute output layer error\n",
    "    A_final = cache[f\"A{L}\"]\n",
    "    dZ = A_final - y_true\n",
    "    for l in reversed(range(1, L + 1)):\n",
    "        A_prev = cache[f\"A{l-1}\"]\n",
    "        W = parameters[f'W{l}']\n",
    "\n",
    "        # Gradients\n",
    "        gradients[f\"dW{l}\"] = np.dot(A_prev.T, dZ) / m\n",
    "        gradients[f\"db{l}\"] = np.sum(dZ, axis=0, keepdims=True) / m\n",
    "\n",
    "        # Backpropagate the error to the previous layer\n",
    "        if l > 1:\n",
    "            dA_prev = np.dot(dZ, W.T)\n",
    "            dZ = dA_prev * sigmoid_derivative(A_prev)\n",
    "\n",
    "    # Update weights and biases\n",
    "    for l in range(1, L + 1):\n",
    "        parameters[f'W{l}'] -= learning_rate * gradients[f\"dW{l}\"]\n",
    "        parameters[f'b{l}'] -= learning_rate * gradients[f\"db{l}\"]\n",
    "\n",
    "    return parameters\n",
    "\n",
    "# Train the network\n",
    "def train(X, y, layers, learning_rate=0.1, num_iterations=10000):\n",
    "    # Initialize weights and biases\n",
    "    parameters = initialize_parameters(layers)\n",
    "\n",
    "    # Store training progress\n",
    "    results = pd.DataFrame(columns=[\"iteration\", \"mse\", \"accuracy\"])\n",
    "\n",
    "    for i in range(num_iterations):\n",
    "        # Forward propagation\n",
    "        cache = forward_propagation(X, parameters, layers)\n",
    "\n",
    "        # Backpropagation\n",
    "        parameters = back_propagation(y, parameters, layers, cache, learning_rate)\n",
    "\n",
    "        # Logging performance\n",
    "        if i % 1000 == 0:\n",
    "            mse = mean_squared_error(cache[f\"A{len(layers)-1}\"], y)\n",
    "            acc = accuracy(cache[f\"A{len(layers)-1}\"], y)\n",
    "            temp_df = pd.DataFrame([{\"iteration\": i, \"mse\": mse, \"accuracy\": acc}])\n",
    "        results = pd.concat([results, temp_df], ignore_index=True)\n",
    "\n",
    "    return parameters, results\n",
    "\n",
    "# Make predictions\n",
    "def predict(X, parameters, layers):\n",
    "    cache = forward_propagation(X, parameters, layers)\n",
    "    output = cache[f\"A{len(layers)-1}\"]\n",
    "    return np.argmax(output, axis=1)\n",
    "\n",
    "# Evaluate accuracy\n",
    "def evaluate(X, y, parameters, layers):\n",
    "    y_pred = predict(X, parameters, layers)\n",
    "    y_true = np.argmax(y, axis=1)\n",
    "    return np.mean(y_pred == y_true)\n",
    "\n",
    "# Example usage\n",
    "# Load or generate your dataset (replace with your dataset)\n",
    "from sklearn.datasets import make_moons\n",
    "from sklearn.model_selection import train_test_split\n",
    "from sklearn.preprocessing import OneHotEncoder\n",
    "\n",
    "# Generate dataset\n",
    "X, y = make_moons(n_samples=500, noise=0.2, random_state=42)\n",
    "\n",
    "# One-hot encode labels\n",
    "encoder = OneHotEncoder(sparse_output=False)\n",
    "y_one_hot = encoder.fit_transform(y.reshape(-1, 1))\n",
    "\n",
    "# Split dataset\n",
    "X_train, X_test, y_train_one_hot, y_test_one_hot = train_test_split(X, y_one_hot, test_size=0.3, random_state=42)\n",
    "\n",
    "# Define architecture: input layer (2), two hidden layers (5, 3), output layer (2)\n",
    "layers = [X_train.shape[1], 5, 3, y_train_one_hot.shape[1]]\n",
    "\n",
    "# Train the model\n",
    "parameters, results = train(X_train, y_train_one_hot, layers, learning_rate=0.1, num_iterations=10000)\n",
    "\n",
    "# Evaluate the model on test data\n",
    "test_accuracy = evaluate(X_test, y_test_one_hot, parameters, layers)\n",
    "print(\"Test Accuracy:\", test_accuracy)\n",
    "\n",
    "# Visualize training progress\n",
    "plt.figure(figsize=(12, 5))\n",
    "plt.subplot(1, 2, 1)\n",
    "plt.plot(results[\"iteration\"], results[\"mse\"], label=\"MSE\")\n",
    "plt.xlabel(\"Iterations\")\n",
    "plt.ylabel(\"Mean Squared Error\")\n",
    "plt.title(\"Training Loss\")\n",
    "plt.legend()\n",
    "\n",
    "plt.subplot(1, 2, 2)\n",
    "plt.plot(results[\"iteration\"], results[\"accuracy\"], label=\"Accuracy\", color=\"orange\")\n",
    "plt.xlabel(\"Iterations\")\n",
    "plt.ylabel(\"Accuracy\")\n",
    "plt.title(\"Training Accuracy\")\n",
    "plt.legend()\n",
    "\n",
    "plt.tight_layout()\n",
    "plt.show()\n"
   ]
  }
 ],
 "metadata": {
  "kernelspec": {
   "display_name": "Python 3 (ipykernel)",
   "language": "python",
   "name": "python3"
  },
  "language_info": {
   "codemirror_mode": {
    "name": "ipython",
    "version": 3
   },
   "file_extension": ".py",
   "mimetype": "text/x-python",
   "name": "python",
   "nbconvert_exporter": "python",
   "pygments_lexer": "ipython3",
   "version": "3.11.4"
  }
 },
 "nbformat": 4,
 "nbformat_minor": 5
}
